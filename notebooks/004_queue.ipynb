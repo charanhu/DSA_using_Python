{
 "cells": [
  {
   "cell_type": "code",
   "execution_count": null,
   "metadata": {},
   "outputs": [],
   "source": [
    "q = []"
   ]
  },
  {
   "cell_type": "code",
   "execution_count": null,
   "metadata": {},
   "outputs": [],
   "source": [
    "# enque (inserting elements into queue)\n",
    "q.append(30)"
   ]
  },
  {
   "cell_type": "code",
   "execution_count": null,
   "metadata": {},
   "outputs": [],
   "source": [
    "q"
   ]
  },
  {
   "cell_type": "code",
   "execution_count": null,
   "metadata": {},
   "outputs": [],
   "source": [
    "# deque (removing elements from queue)\n",
    "q.pop(0) "
   ]
  },
  {
   "cell_type": "code",
   "execution_count": null,
   "metadata": {},
   "outputs": [],
   "source": [
    "q"
   ]
  },
  {
   "cell_type": "markdown",
   "metadata": {},
   "source": [
    "# Complete Queue Implementation"
   ]
  },
  {
   "cell_type": "code",
   "execution_count": null,
   "metadata": {},
   "outputs": [],
   "source": [
    "queue = []\n",
    "def enqueue(x):\n",
    "    element = input(\"Enter the element to be inserted: \")\n",
    "    queue.append(element)\n",
    "    print(element, \"is inserted into the queue\")\n",
    "\n",
    "def dequeue():\n",
    "    if not queue:\n",
    "        print(\"Queue is empty\")\n",
    "    else:\n",
    "        e = queue.pop(0)\n",
    "        print(\"Removed element: \", e)\n",
    "\n",
    "def display():\n",
    "    if not queue:\n",
    "        print(\"Queue is empty\")\n",
    "    else:\n",
    "        print(queue)\n",
    "\n",
    "while True:\n",
    "    print(\"Select the operation 1. ADD 2. REMOVE 3. DISPLAY 4. EXIT\")\n",
    "    choice = int(input())\n",
    "    if choice == 1:\n",
    "        enqueue(queue)\n",
    "    elif choice == 2:\n",
    "        dequeue()\n",
    "    elif choice == 3:\n",
    "        display()\n",
    "    elif choice == 4:\n",
    "        break\n",
    "    else:\n",
    "        print(\"Invalid choice\")\n"
   ]
  },
  {
   "cell_type": "code",
   "execution_count": null,
   "metadata": {},
   "outputs": [],
   "source": []
  }
 ],
 "metadata": {
  "kernelspec": {
   "display_name": "Python 3",
   "language": "python",
   "name": "python3"
  },
  "language_info": {
   "codemirror_mode": {
    "name": "ipython",
    "version": 3
   },
   "file_extension": ".py",
   "mimetype": "text/x-python",
   "name": "python",
   "nbconvert_exporter": "python",
   "pygments_lexer": "ipython3",
   "version": "3.12.1"
  }
 },
 "nbformat": 4,
 "nbformat_minor": 2
}
