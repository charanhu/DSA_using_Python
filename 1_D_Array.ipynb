{
 "cells": [
  {
   "attachments": {},
   "cell_type": "markdown",
   "metadata": {},
   "source": [
    "# One Dimensional Array"
   ]
  },
  {
   "cell_type": "code",
   "execution_count": 3,
   "metadata": {},
   "outputs": [
    {
     "name": "stdout",
     "output_type": "stream",
     "text": [
      "How many elements do you want to store?:\n",
      "Enter 6 elements:\n",
      "\n",
      "The array is:\n",
      "10 20 30 40 50 60 "
     ]
    }
   ],
   "source": [
    "# print statement to ask the array size\n",
    "print(\"How many elements do you want to store?:\", end=\"\")\n",
    "# to store the array size\n",
    "size  = int(input())\n",
    "# declare an array\n",
    "array = []\n",
    "# ask the user to enter the array elements\n",
    "print(\"\\nEnter\", size, \"elements:\\n\")\n",
    "# loop to store the array elements\n",
    "for i in range(size):\n",
    "    # to store the array element\n",
    "    element = int(input())\n",
    "    # append the element to the array\n",
    "    array.append(element)\n",
    "\n",
    "# print the array\n",
    "print(\"The array is:\")\n",
    "# loop to print the array elements\n",
    "for i in range(size):\n",
    "    # print the array element\n",
    "    print(array[i], end=\" \")"
   ]
  },
  {
   "cell_type": "code",
   "execution_count": null,
   "metadata": {},
   "outputs": [],
   "source": []
  }
 ],
 "metadata": {
  "kernelspec": {
   "display_name": "Python 3",
   "language": "python",
   "name": "python3"
  },
  "language_info": {
   "codemirror_mode": {
    "name": "ipython",
    "version": 3
   },
   "file_extension": ".py",
   "mimetype": "text/x-python",
   "name": "python",
   "nbconvert_exporter": "python",
   "pygments_lexer": "ipython3",
   "version": "3.10.7"
  },
  "orig_nbformat": 4,
  "vscode": {
   "interpreter": {
    "hash": "26de051ba29f2982a8de78e945f0abaf191376122a1563185a90213a26c5da77"
   }
  }
 },
 "nbformat": 4,
 "nbformat_minor": 2
}
