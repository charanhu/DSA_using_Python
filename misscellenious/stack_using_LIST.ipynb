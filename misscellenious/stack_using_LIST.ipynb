{
 "cells": [
  {
   "attachments": {},
   "cell_type": "markdown",
   "metadata": {},
   "source": [
    "# STACK implementaion using LIST"
   ]
  },
  {
   "cell_type": "code",
   "execution_count": null,
   "metadata": {},
   "outputs": [],
   "source": [
    "# stack of size 5\n",
    "stack = [None] * 5 # None is a special value in Python that represents nothingness\n",
    "\n",
    "# declare top of stack\n",
    "top = -1\n",
    "\n",
    "# inserting elements in stack\n",
    "def push(item):\n",
    "    global top\n",
    "    if top == len(stack) - 1:\n",
    "        print(\"Stack is full\")\n",
    "    else:\n",
    "        top = top + 1\n",
    "        push = input(\"Enter the element to push : \")\n",
    "        stack[top] = push\n",
    "\n",
    "# deleting elements from stack\n",
    "def pop():\n",
    "    global top\n",
    "    if top == -1:\n",
    "        print(\"Stack is empty\")\n",
    "    else:\n",
    "        print(\"Element popped from stack is : \", stack[top])\n",
    "        top = top - 1\n",
    "\n",
    "# display the stack\n",
    "def display():\n",
    "    if top == -1:\n",
    "        print(\"Stack is empty\")\n",
    "    else:\n",
    "        print(\"Stack is : \")\n",
    "        for i in range(top, -1, -1):\n",
    "            print(stack[i], end=\" \")\n",
    "        print()\n",
    "\n",
    "# main function\n",
    "def main():\n",
    "    while True:\n",
    "        print(\"1. Push\")\n",
    "        print(\"2. Pop\")\n",
    "        print(\"3. Display\")\n",
    "        print(\"4. Exit\")\n",
    "        choice = int(input(\"Enter your choice : \"))\n",
    "        if choice == 1:\n",
    "            push()\n",
    "        elif choice == 2:\n",
    "            pop()\n",
    "        elif choice == 3:\n",
    "            display()\n",
    "        elif choice == 4:\n",
    "            break\n",
    "        else:\n",
    "            print(\"Invalid choice\")\n"
   ]
  }
 ],
 "metadata": {
  "kernelspec": {
   "display_name": "base",
   "language": "python",
   "name": "python3"
  },
  "language_info": {
   "codemirror_mode": {
    "name": "ipython",
    "version": 3
   },
   "file_extension": ".py",
   "mimetype": "text/x-python",
   "name": "python",
   "nbconvert_exporter": "python",
   "pygments_lexer": "ipython3",
   "version": "3.9.12"
  },
  "orig_nbformat": 4,
  "vscode": {
   "interpreter": {
    "hash": "ad2bdc8ecc057115af97d19610ffacc2b4e99fae6737bb82f5d7fb13d2f2c186"
   }
  }
 },
 "nbformat": 4,
 "nbformat_minor": 2
}
